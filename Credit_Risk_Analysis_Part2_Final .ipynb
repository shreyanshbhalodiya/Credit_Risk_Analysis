{
 "cells": [
  {
   "cell_type": "code",
   "execution_count": 1,
   "metadata": {},
   "outputs": [],
   "source": [
    "### Importing libraries"
   ]
  },
  {
   "cell_type": "code",
   "execution_count": 2,
   "metadata": {},
   "outputs": [],
   "source": [
    "import pandas as pd\n",
    "import numpy as np"
   ]
  },
  {
   "cell_type": "markdown",
   "metadata": {},
   "source": [
    "# What is Final Data ?\n",
    "## final_data is a merged files of all the given CSV files after dropping columns which cointains null values more then 50% and null values imputation based on skewdness of data We are also sharing CSV file in which we made this final_data file\n"
   ]
  },
  {
   "cell_type": "code",
   "execution_count": null,
   "metadata": {},
   "outputs": [],
   "source": []
  },
  {
   "cell_type": "code",
   "execution_count": 3,
   "metadata": {
    "scrolled": true
   },
   "outputs": [],
   "source": [
    "final_data = pd.read_csv(\"D:\\Desktop\\AIF_Data\\created_data\\AIF_Final_File_new.csv\")"
   ]
  },
  {
   "cell_type": "code",
   "execution_count": 4,
   "metadata": {
    "scrolled": true
   },
   "outputs": [
    {
     "data": {
      "text/plain": [
       "(188678, 169)"
      ]
     },
     "execution_count": 4,
     "metadata": {},
     "output_type": "execute_result"
    }
   ],
   "source": [
    "final_data.shape"
   ]
  },
  {
   "cell_type": "markdown",
   "metadata": {},
   "source": [
    "# Now What list1 cointains  ?\n",
    "### This are the Final 48 variable we selected not for final model but we sorted this final 48 variables based on following criteria\n",
    "### 1) Business domain \n",
    "### 2) IV of all variables\n",
    "### 3) VIF \n",
    "### 4) Null Values"
   ]
  },
  {
   "cell_type": "code",
   "execution_count": 5,
   "metadata": {},
   "outputs": [],
   "source": [
    "list1 = [\"SK_ID_CURR\" , \"TARGET\",\n",
    "\"OCCUPATION_TYPE\",\n",
    "\"ORGANIZATION_TYPE\",\n",
    "\"NAME_INCOME_TYPE\",\n",
    "\"NAME_EDUCATION_TYPE\",\n",
    "\"NAME_HOUSING_TYPE\",\n",
    "\"FLAG_OWN_CAR\",\n",
    "\"FLAG_OWN_REALTY\",\n",
    "\"REGION_RATING_CLIENT_W_CITY\",\n",
    "\"FLAG_CONT_MOBILE\",\n",
    "\"DAYS_BIRTH\",\n",
    "\"CNT_CHILDREN\",\n",
    "\"DAYS_LAST_PHONE_CHANGE\",\n",
    "\"DAYS_EMPLOYED\",\n",
    "\"AMT_INCOME_TOTAL\",\n",
    "\"AMT_REQ_CREDIT_BUREAU_MON\",\n",
    "\"TARGET\",\n",
    "\"DEF_60_CNT_SOCIAL_CIRCLE\",\n",
    "\"FLAG_DOCUMENT_3\",\n",
    "\"REG_CITY_NOT_WORK_CITY\",\n",
    "\"ORGANIZATION_TYPE\",\n",
    "\"SK_ID_CURR\",\n",
    "\"SK_ID_BUREAU\",\n",
    "\"CREDIT_ACTIVE\",\n",
    "\"CREDIT_TYPE\",\n",
    "\"DAYS_CREDIT\",\n",
    "\"DAYS_CREDIT_UPDATE\",\n",
    "\"AMT_CREDIT_SUM_DEBT\",\n",
    "\"CNT_CREDIT_PROLONG\",\n",
    "\"AMT_CREDIT_SUM_OVERDUE\",\n",
    "\"DAYS_CREDIT_ENDDATE\",\"SK_ID_BUREAU\",\n",
    "\"STATUS\",\n",
    "\"SK_ID_CURR\",\n",
    "\"NAME_CONTRACT_STATUS\",\n",
    "\"AMT_CREDIT_LIMIT_ACTUAL\",\n",
    "\"AMT_TOTAL_RECEIVABLE\",\n",
    "\"AMT_PAYMENT_TOTAL_CURRENT\",\n",
    "\"SK_ID_CURR\",\n",
    "\"NUM_INSTALMENT_NUMBER\",     \n",
    "\"NUM_INSTALMENT_VERSION\",\"SK_ID_CURR\",\n",
    "\"CODE_REJECT_REASON\",\n",
    "\"NAME_GOODS_CATEGORY\",\n",
    "\"NAME_PORTFOLIO\",\n",
    "\"NAME_CASH_LOAN_PURPOSE\",\n",
    "\"NAME_PAYMENT_TYPE\",\n",
    "\"NAME_CLIENT_TYPE\",\n",
    "\"NAME_CONTRACT_STATUS\",\n",
    "\"AMT_APPLICATION\"]"
   ]
  },
  {
   "cell_type": "code",
   "execution_count": 6,
   "metadata": {},
   "outputs": [],
   "source": [
    "final_data = final_data[set(list1)]"
   ]
  },
  {
   "cell_type": "code",
   "execution_count": 7,
   "metadata": {},
   "outputs": [
    {
     "data": {
      "text/plain": [
       "(188678, 43)"
      ]
     },
     "execution_count": 7,
     "metadata": {},
     "output_type": "execute_result"
    }
   ],
   "source": [
    "final_data.shape"
   ]
  },
  {
   "cell_type": "code",
   "execution_count": 8,
   "metadata": {
    "scrolled": true
   },
   "outputs": [
    {
     "data": {
      "text/plain": [
       "(188678, 43)"
      ]
     },
     "execution_count": 8,
     "metadata": {},
     "output_type": "execute_result"
    }
   ],
   "source": [
    "final_data.shape"
   ]
  },
  {
   "cell_type": "markdown",
   "metadata": {},
   "source": [
    "### Calculating VIF for final_data 48 variables \n",
    "### Seperating categorical and Numerical Variables"
   ]
  },
  {
   "cell_type": "code",
   "execution_count": 9,
   "metadata": {},
   "outputs": [],
   "source": [
    "X = final_data.select_dtypes(exclude=['object'])"
   ]
  },
  {
   "cell_type": "code",
   "execution_count": 10,
   "metadata": {},
   "outputs": [
    {
     "name": "stdout",
     "output_type": "stream",
     "text": [
      "                        feature         VIF\n",
      "0                 DAYS_EMPLOYED    2.127670\n",
      "1                    DAYS_BIRTH   27.074799\n",
      "2     AMT_PAYMENT_TOTAL_CURRENT    1.101685\n",
      "3                   DAYS_CREDIT    6.237632\n",
      "4                  CNT_CHILDREN    1.524949\n",
      "5      DEF_60_CNT_SOCIAL_CIRCLE    1.079058\n",
      "6               FLAG_DOCUMENT_3    4.009037\n",
      "7            CNT_CREDIT_PROLONG    1.014065\n",
      "8                    SK_ID_CURR    8.232932\n",
      "9              AMT_INCOME_TOTAL    1.376435\n",
      "10                 SK_ID_BUREAU  102.617607\n",
      "11             FLAG_CONT_MOBILE  144.930244\n",
      "12    AMT_REQ_CREDIT_BUREAU_MON    1.106076\n",
      "13       REG_CITY_NOT_WORK_CITY    1.397361\n",
      "14       DAYS_LAST_PHONE_CHANGE    2.563467\n",
      "15          DAYS_CREDIT_ENDDATE    1.110489\n",
      "16          AMT_CREDIT_SUM_DEBT    1.036195\n",
      "17        NUM_INSTALMENT_NUMBER    1.519582\n",
      "18       AMT_CREDIT_SUM_OVERDUE    1.000243\n",
      "19                       TARGET    1.103712\n",
      "20         AMT_TOTAL_RECEIVABLE    1.630774\n",
      "21       NUM_INSTALMENT_VERSION    2.698950\n",
      "22  REGION_RATING_CLIENT_W_CITY   17.853195\n",
      "23              AMT_APPLICATION    1.387255\n",
      "24      AMT_CREDIT_LIMIT_ACTUAL    2.299982\n",
      "25           DAYS_CREDIT_UPDATE    3.315491\n"
     ]
    }
   ],
   "source": [
    "from statsmodels.stats.outliers_influence import variance_inflation_factor \n",
    "\n",
    "# VIF dataframe \n",
    "vif_data = pd.DataFrame() \n",
    "vif_data[\"feature\"] = X.columns\n",
    "  \n",
    "# calculating VIF for each feature \n",
    "vif_data[\"VIF\"] = [variance_inflation_factor(X.values, i) \n",
    "                          for i in range(len(X.columns))] \n",
    "  \n",
    "print(vif_data)"
   ]
  },
  {
   "cell_type": "markdown",
   "metadata": {},
   "source": [
    "### Taking columns based on VIF less than 5"
   ]
  },
  {
   "cell_type": "code",
   "execution_count": 11,
   "metadata": {},
   "outputs": [],
   "source": [
    "nf = vif_data[vif_data[\"VIF\"] < 5]"
   ]
  },
  {
   "cell_type": "code",
   "execution_count": 12,
   "metadata": {},
   "outputs": [
    {
     "data": {
      "text/plain": [
       "0                 DAYS_EMPLOYED\n",
       "2     AMT_PAYMENT_TOTAL_CURRENT\n",
       "4                  CNT_CHILDREN\n",
       "5      DEF_60_CNT_SOCIAL_CIRCLE\n",
       "6               FLAG_DOCUMENT_3\n",
       "7            CNT_CREDIT_PROLONG\n",
       "9              AMT_INCOME_TOTAL\n",
       "12    AMT_REQ_CREDIT_BUREAU_MON\n",
       "13       REG_CITY_NOT_WORK_CITY\n",
       "14       DAYS_LAST_PHONE_CHANGE\n",
       "15          DAYS_CREDIT_ENDDATE\n",
       "16          AMT_CREDIT_SUM_DEBT\n",
       "17        NUM_INSTALMENT_NUMBER\n",
       "18       AMT_CREDIT_SUM_OVERDUE\n",
       "19                       TARGET\n",
       "20         AMT_TOTAL_RECEIVABLE\n",
       "21       NUM_INSTALMENT_VERSION\n",
       "23              AMT_APPLICATION\n",
       "24      AMT_CREDIT_LIMIT_ACTUAL\n",
       "25           DAYS_CREDIT_UPDATE\n",
       "Name: feature, dtype: object"
      ]
     },
     "execution_count": 12,
     "metadata": {},
     "output_type": "execute_result"
    }
   ],
   "source": [
    "nf[\"feature\"]"
   ]
  },
  {
   "cell_type": "code",
   "execution_count": 13,
   "metadata": {},
   "outputs": [
    {
     "data": {
      "text/plain": [
       "(188678, 43)"
      ]
     },
     "execution_count": 13,
     "metadata": {},
     "output_type": "execute_result"
    }
   ],
   "source": [
    "final_data.shape"
   ]
  },
  {
   "cell_type": "code",
   "execution_count": 14,
   "metadata": {},
   "outputs": [],
   "source": [
    "X_cat = final_data.select_dtypes(include=['object'])"
   ]
  },
  {
   "cell_type": "code",
   "execution_count": 15,
   "metadata": {},
   "outputs": [
    {
     "data": {
      "text/html": [
       "<div>\n",
       "<style scoped>\n",
       "    .dataframe tbody tr th:only-of-type {\n",
       "        vertical-align: middle;\n",
       "    }\n",
       "\n",
       "    .dataframe tbody tr th {\n",
       "        vertical-align: top;\n",
       "    }\n",
       "\n",
       "    .dataframe thead th {\n",
       "        text-align: right;\n",
       "    }\n",
       "</style>\n",
       "<table border=\"1\" class=\"dataframe\">\n",
       "  <thead>\n",
       "    <tr style=\"text-align: right;\">\n",
       "      <th></th>\n",
       "      <th>NAME_CONTRACT_STATUS</th>\n",
       "      <th>NAME_GOODS_CATEGORY</th>\n",
       "      <th>STATUS</th>\n",
       "      <th>NAME_PAYMENT_TYPE</th>\n",
       "      <th>NAME_CASH_LOAN_PURPOSE</th>\n",
       "      <th>NAME_PORTFOLIO</th>\n",
       "      <th>NAME_HOUSING_TYPE</th>\n",
       "      <th>NAME_INCOME_TYPE</th>\n",
       "      <th>FLAG_OWN_CAR</th>\n",
       "      <th>ORGANIZATION_TYPE</th>\n",
       "      <th>NAME_CLIENT_TYPE</th>\n",
       "      <th>OCCUPATION_TYPE</th>\n",
       "      <th>CREDIT_ACTIVE</th>\n",
       "      <th>CODE_REJECT_REASON</th>\n",
       "      <th>NAME_EDUCATION_TYPE</th>\n",
       "      <th>CREDIT_TYPE</th>\n",
       "      <th>FLAG_OWN_REALTY</th>\n",
       "    </tr>\n",
       "  </thead>\n",
       "  <tbody>\n",
       "    <tr>\n",
       "      <th>0</th>\n",
       "      <td>Active</td>\n",
       "      <td>Vehicles</td>\n",
       "      <td>C</td>\n",
       "      <td>XNA</td>\n",
       "      <td>XAP</td>\n",
       "      <td>POS</td>\n",
       "      <td>House / apartment</td>\n",
       "      <td>Working</td>\n",
       "      <td>N</td>\n",
       "      <td>Business Entity Type 3</td>\n",
       "      <td>New</td>\n",
       "      <td>Laborers</td>\n",
       "      <td>Closed</td>\n",
       "      <td>XAP</td>\n",
       "      <td>Secondary / secondary special</td>\n",
       "      <td>Credit card</td>\n",
       "      <td>Y</td>\n",
       "    </tr>\n",
       "    <tr>\n",
       "      <th>1</th>\n",
       "      <td>Active</td>\n",
       "      <td>XNA</td>\n",
       "      <td>C</td>\n",
       "      <td>XNA</td>\n",
       "      <td>XNA</td>\n",
       "      <td>Cash</td>\n",
       "      <td>House / apartment</td>\n",
       "      <td>State servant</td>\n",
       "      <td>N</td>\n",
       "      <td>School</td>\n",
       "      <td>Repeater</td>\n",
       "      <td>Core staff</td>\n",
       "      <td>Closed</td>\n",
       "      <td>XAP</td>\n",
       "      <td>Higher education</td>\n",
       "      <td>Consumer credit</td>\n",
       "      <td>N</td>\n",
       "    </tr>\n",
       "    <tr>\n",
       "      <th>2</th>\n",
       "      <td>Active</td>\n",
       "      <td>Mobile</td>\n",
       "      <td>C</td>\n",
       "      <td>Cash through the bank</td>\n",
       "      <td>XAP</td>\n",
       "      <td>POS</td>\n",
       "      <td>House / apartment</td>\n",
       "      <td>Working</td>\n",
       "      <td>Y</td>\n",
       "      <td>Government</td>\n",
       "      <td>New</td>\n",
       "      <td>Laborers</td>\n",
       "      <td>Closed</td>\n",
       "      <td>XAP</td>\n",
       "      <td>Secondary / secondary special</td>\n",
       "      <td>Consumer credit</td>\n",
       "      <td>Y</td>\n",
       "    </tr>\n",
       "    <tr>\n",
       "      <th>3</th>\n",
       "      <td>Active</td>\n",
       "      <td>Consumer Electronics</td>\n",
       "      <td>C</td>\n",
       "      <td>Cash through the bank</td>\n",
       "      <td>XAP</td>\n",
       "      <td>POS</td>\n",
       "      <td>House / apartment</td>\n",
       "      <td>State servant</td>\n",
       "      <td>N</td>\n",
       "      <td>Other</td>\n",
       "      <td>Repeater</td>\n",
       "      <td>Laborers</td>\n",
       "      <td>Closed</td>\n",
       "      <td>XAP</td>\n",
       "      <td>Secondary / secondary special</td>\n",
       "      <td>Consumer credit</td>\n",
       "      <td>Y</td>\n",
       "    </tr>\n",
       "    <tr>\n",
       "      <th>4</th>\n",
       "      <td>Active</td>\n",
       "      <td>Consumer Electronics</td>\n",
       "      <td>C</td>\n",
       "      <td>Cash through the bank</td>\n",
       "      <td>XAP</td>\n",
       "      <td>POS</td>\n",
       "      <td>House / apartment</td>\n",
       "      <td>Commercial associate</td>\n",
       "      <td>Y</td>\n",
       "      <td>Business Entity Type 3</td>\n",
       "      <td>Repeater</td>\n",
       "      <td>Accountants</td>\n",
       "      <td>Closed</td>\n",
       "      <td>XAP</td>\n",
       "      <td>Higher education</td>\n",
       "      <td>Consumer credit</td>\n",
       "      <td>Y</td>\n",
       "    </tr>\n",
       "    <tr>\n",
       "      <th>...</th>\n",
       "      <td>...</td>\n",
       "      <td>...</td>\n",
       "      <td>...</td>\n",
       "      <td>...</td>\n",
       "      <td>...</td>\n",
       "      <td>...</td>\n",
       "      <td>...</td>\n",
       "      <td>...</td>\n",
       "      <td>...</td>\n",
       "      <td>...</td>\n",
       "      <td>...</td>\n",
       "      <td>...</td>\n",
       "      <td>...</td>\n",
       "      <td>...</td>\n",
       "      <td>...</td>\n",
       "      <td>...</td>\n",
       "      <td>...</td>\n",
       "    </tr>\n",
       "    <tr>\n",
       "      <th>188673</th>\n",
       "      <td>Active</td>\n",
       "      <td>Mobile</td>\n",
       "      <td>C</td>\n",
       "      <td>Cash through the bank</td>\n",
       "      <td>XAP</td>\n",
       "      <td>POS</td>\n",
       "      <td>House / apartment</td>\n",
       "      <td>Commercial associate</td>\n",
       "      <td>N</td>\n",
       "      <td>Medicine</td>\n",
       "      <td>New</td>\n",
       "      <td>Medicine staff</td>\n",
       "      <td>Closed</td>\n",
       "      <td>XAP</td>\n",
       "      <td>Secondary / secondary special</td>\n",
       "      <td>Consumer credit</td>\n",
       "      <td>Y</td>\n",
       "    </tr>\n",
       "    <tr>\n",
       "      <th>188674</th>\n",
       "      <td>Active</td>\n",
       "      <td>Jewelry</td>\n",
       "      <td>C</td>\n",
       "      <td>Cash through the bank</td>\n",
       "      <td>XAP</td>\n",
       "      <td>POS</td>\n",
       "      <td>House / apartment</td>\n",
       "      <td>Commercial associate</td>\n",
       "      <td>N</td>\n",
       "      <td>Bank</td>\n",
       "      <td>Repeater</td>\n",
       "      <td>Core staff</td>\n",
       "      <td>Closed</td>\n",
       "      <td>XAP</td>\n",
       "      <td>Higher education</td>\n",
       "      <td>Consumer credit</td>\n",
       "      <td>Y</td>\n",
       "    </tr>\n",
       "    <tr>\n",
       "      <th>188675</th>\n",
       "      <td>Active</td>\n",
       "      <td>Computers</td>\n",
       "      <td>C</td>\n",
       "      <td>Cash through the bank</td>\n",
       "      <td>XAP</td>\n",
       "      <td>POS</td>\n",
       "      <td>House / apartment</td>\n",
       "      <td>Pensioner</td>\n",
       "      <td>N</td>\n",
       "      <td>XNA</td>\n",
       "      <td>Repeater</td>\n",
       "      <td>Laborers</td>\n",
       "      <td>Closed</td>\n",
       "      <td>HC</td>\n",
       "      <td>Secondary / secondary special</td>\n",
       "      <td>Consumer credit</td>\n",
       "      <td>Y</td>\n",
       "    </tr>\n",
       "    <tr>\n",
       "      <th>188676</th>\n",
       "      <td>Active</td>\n",
       "      <td>Mobile</td>\n",
       "      <td>C</td>\n",
       "      <td>Cash through the bank</td>\n",
       "      <td>XAP</td>\n",
       "      <td>POS</td>\n",
       "      <td>House / apartment</td>\n",
       "      <td>Working</td>\n",
       "      <td>N</td>\n",
       "      <td>School</td>\n",
       "      <td>Refreshed</td>\n",
       "      <td>Managers</td>\n",
       "      <td>Closed</td>\n",
       "      <td>XAP</td>\n",
       "      <td>Higher education</td>\n",
       "      <td>Consumer credit</td>\n",
       "      <td>Y</td>\n",
       "    </tr>\n",
       "    <tr>\n",
       "      <th>188677</th>\n",
       "      <td>Active</td>\n",
       "      <td>Furniture</td>\n",
       "      <td>C</td>\n",
       "      <td>Cash through the bank</td>\n",
       "      <td>XAP</td>\n",
       "      <td>POS</td>\n",
       "      <td>House / apartment</td>\n",
       "      <td>Commercial associate</td>\n",
       "      <td>N</td>\n",
       "      <td>Business Entity Type 3</td>\n",
       "      <td>Refreshed</td>\n",
       "      <td>Laborers</td>\n",
       "      <td>Closed</td>\n",
       "      <td>XAP</td>\n",
       "      <td>Higher education</td>\n",
       "      <td>Consumer credit</td>\n",
       "      <td>N</td>\n",
       "    </tr>\n",
       "  </tbody>\n",
       "</table>\n",
       "<p>188678 rows × 17 columns</p>\n",
       "</div>"
      ],
      "text/plain": [
       "       NAME_CONTRACT_STATUS   NAME_GOODS_CATEGORY STATUS  \\\n",
       "0                    Active              Vehicles      C   \n",
       "1                    Active                   XNA      C   \n",
       "2                    Active                Mobile      C   \n",
       "3                    Active  Consumer Electronics      C   \n",
       "4                    Active  Consumer Electronics      C   \n",
       "...                     ...                   ...    ...   \n",
       "188673               Active                Mobile      C   \n",
       "188674               Active               Jewelry      C   \n",
       "188675               Active             Computers      C   \n",
       "188676               Active                Mobile      C   \n",
       "188677               Active             Furniture      C   \n",
       "\n",
       "            NAME_PAYMENT_TYPE NAME_CASH_LOAN_PURPOSE NAME_PORTFOLIO  \\\n",
       "0                         XNA                    XAP            POS   \n",
       "1                         XNA                    XNA           Cash   \n",
       "2       Cash through the bank                    XAP            POS   \n",
       "3       Cash through the bank                    XAP            POS   \n",
       "4       Cash through the bank                    XAP            POS   \n",
       "...                       ...                    ...            ...   \n",
       "188673  Cash through the bank                    XAP            POS   \n",
       "188674  Cash through the bank                    XAP            POS   \n",
       "188675  Cash through the bank                    XAP            POS   \n",
       "188676  Cash through the bank                    XAP            POS   \n",
       "188677  Cash through the bank                    XAP            POS   \n",
       "\n",
       "        NAME_HOUSING_TYPE      NAME_INCOME_TYPE FLAG_OWN_CAR  \\\n",
       "0       House / apartment               Working            N   \n",
       "1       House / apartment         State servant            N   \n",
       "2       House / apartment               Working            Y   \n",
       "3       House / apartment         State servant            N   \n",
       "4       House / apartment  Commercial associate            Y   \n",
       "...                   ...                   ...          ...   \n",
       "188673  House / apartment  Commercial associate            N   \n",
       "188674  House / apartment  Commercial associate            N   \n",
       "188675  House / apartment             Pensioner            N   \n",
       "188676  House / apartment               Working            N   \n",
       "188677  House / apartment  Commercial associate            N   \n",
       "\n",
       "             ORGANIZATION_TYPE NAME_CLIENT_TYPE OCCUPATION_TYPE CREDIT_ACTIVE  \\\n",
       "0       Business Entity Type 3              New        Laborers        Closed   \n",
       "1                       School         Repeater      Core staff        Closed   \n",
       "2                   Government              New        Laborers        Closed   \n",
       "3                        Other         Repeater        Laborers        Closed   \n",
       "4       Business Entity Type 3         Repeater     Accountants        Closed   \n",
       "...                        ...              ...             ...           ...   \n",
       "188673                Medicine              New  Medicine staff        Closed   \n",
       "188674                    Bank         Repeater      Core staff        Closed   \n",
       "188675                     XNA         Repeater        Laborers        Closed   \n",
       "188676                  School        Refreshed        Managers        Closed   \n",
       "188677  Business Entity Type 3        Refreshed        Laborers        Closed   \n",
       "\n",
       "       CODE_REJECT_REASON            NAME_EDUCATION_TYPE      CREDIT_TYPE  \\\n",
       "0                     XAP  Secondary / secondary special      Credit card   \n",
       "1                     XAP               Higher education  Consumer credit   \n",
       "2                     XAP  Secondary / secondary special  Consumer credit   \n",
       "3                     XAP  Secondary / secondary special  Consumer credit   \n",
       "4                     XAP               Higher education  Consumer credit   \n",
       "...                   ...                            ...              ...   \n",
       "188673                XAP  Secondary / secondary special  Consumer credit   \n",
       "188674                XAP               Higher education  Consumer credit   \n",
       "188675                 HC  Secondary / secondary special  Consumer credit   \n",
       "188676                XAP               Higher education  Consumer credit   \n",
       "188677                XAP               Higher education  Consumer credit   \n",
       "\n",
       "       FLAG_OWN_REALTY  \n",
       "0                    Y  \n",
       "1                    N  \n",
       "2                    Y  \n",
       "3                    Y  \n",
       "4                    Y  \n",
       "...                ...  \n",
       "188673               Y  \n",
       "188674               Y  \n",
       "188675               Y  \n",
       "188676               Y  \n",
       "188677               N  \n",
       "\n",
       "[188678 rows x 17 columns]"
      ]
     },
     "execution_count": 15,
     "metadata": {},
     "output_type": "execute_result"
    }
   ],
   "source": [
    "X_cat"
   ]
  },
  {
   "cell_type": "code",
   "execution_count": 16,
   "metadata": {},
   "outputs": [],
   "source": [
    "categorical = X_cat"
   ]
  },
  {
   "cell_type": "markdown",
   "metadata": {},
   "source": [
    "### Doing Chi-square test for categorical Variable  "
   ]
  },
  {
   "cell_type": "code",
   "execution_count": 17,
   "metadata": {
    "scrolled": true
   },
   "outputs": [
    {
     "name": "stdout",
     "output_type": "stream",
     "text": [
      "                    Column                      Hypothesis\n",
      "0     NAME_CONTRACT_STATUS          Reject Null Hypothesis\n",
      "1      NAME_GOODS_CATEGORY          Reject Null Hypothesis\n",
      "2                   STATUS          Reject Null Hypothesis\n",
      "3        NAME_PAYMENT_TYPE          Reject Null Hypothesis\n",
      "4   NAME_CASH_LOAN_PURPOSE          Reject Null Hypothesis\n",
      "5           NAME_PORTFOLIO          Reject Null Hypothesis\n",
      "6        NAME_HOUSING_TYPE          Reject Null Hypothesis\n",
      "7         NAME_INCOME_TYPE          Reject Null Hypothesis\n",
      "8             FLAG_OWN_CAR          Reject Null Hypothesis\n",
      "9        ORGANIZATION_TYPE          Reject Null Hypothesis\n",
      "10        NAME_CLIENT_TYPE          Reject Null Hypothesis\n",
      "11         OCCUPATION_TYPE          Reject Null Hypothesis\n",
      "12           CREDIT_ACTIVE          Reject Null Hypothesis\n",
      "13      CODE_REJECT_REASON          Reject Null Hypothesis\n",
      "14     NAME_EDUCATION_TYPE          Reject Null Hypothesis\n",
      "15             CREDIT_TYPE          Reject Null Hypothesis\n",
      "16         FLAG_OWN_REALTY  Fail to Reject Null Hypothesis\n"
     ]
    }
   ],
   "source": [
    "from scipy.stats import chi2_contingency\n",
    "\n",
    "\n",
    "categorical_columns=list(categorical.columns)\n",
    "chi2_check = []\n",
    "for i in categorical_columns:\n",
    "    if chi2_contingency(pd.crosstab(final_data[\"TARGET\"], final_data[i]))[1] < 0.05:\n",
    "        chi2_check.append('Reject Null Hypothesis')\n",
    "    else:\n",
    "        chi2_check.append('Fail to Reject Null Hypothesis')\n",
    "res = pd.DataFrame(data = [categorical_columns, chi2_check] \n",
    "             ).T \n",
    "res.columns = ['Column', 'Hypothesis']\n",
    "print(res)"
   ]
  },
  {
   "cell_type": "markdown",
   "metadata": {},
   "source": [
    "# Now what this 27 variable consist ?\n",
    "\n",
    "## Based on VIF we selected variables which are less than 5 \n",
    "## Now we took few variables which had VIF greater than 5 because according to business domain we can't skip those variables as they were important \n",
    "## We did same for categorical Variable varibles which were important were selected from 16 categorical variables"
   ]
  },
  {
   "cell_type": "code",
   "execution_count": 18,
   "metadata": {},
   "outputs": [],
   "source": [
    "final_data_final = final_data[['SK_ID_CURR',\"TARGET\",\n",
    "\"FLAG_OWN_REALTY\",\n",
    "\"ORGANIZATION_TYPE\",\n",
    "\"STATUS\",\n",
    "\"OCCUPATION_TYPE\",\n",
    " \"DAYS_CREDIT\",\n",
    " \"REGION_RATING_CLIENT_W_CITY\",\n",
    " \"AMT_CREDIT_LIMIT_ACTUAL\",\n",
    " \"DAYS_BIRTH\",\n",
    "\"DAYS_CREDIT_UPDATE\",\n",
    "\"AMT_CREDIT_SUM_DEBT\",\n",
    "\"AMT_INCOME_TOTAL\",\n",
    "\"AMT_PAYMENT_TOTAL_CURRENT\",\n",
    "\"CNT_CREDIT_PROLONG\",\n",
    "\"FLAG_DOCUMENT_3\",\n",
    "\"NUM_INSTALMENT_NUMBER\",\n",
    "\"REG_CITY_NOT_WORK_CITY\",\n",
    "\"DAYS_EMPLOYED\",\n",
    "\"CNT_CHILDREN\",\n",
    "\"DAYS_CREDIT_ENDDATE\",\n",
    "\"DEF_60_CNT_SOCIAL_CIRCLE\",\n",
    "\"AMT_REQ_CREDIT_BUREAU_MON\",\n",
    "\"AMT_APPLICATION\",\n",
    "\"DAYS_LAST_PHONE_CHANGE\",\n",
    "\"AMT_TOTAL_RECEIVABLE\",\n",
    "\"AMT_CREDIT_SUM_OVERDUE\",\n",
    "\"NUM_INSTALMENT_VERSION\"]]"
   ]
  },
  {
   "cell_type": "code",
   "execution_count": 19,
   "metadata": {},
   "outputs": [
    {
     "data": {
      "text/plain": [
       "(188678, 28)"
      ]
     },
     "execution_count": 19,
     "metadata": {},
     "output_type": "execute_result"
    }
   ],
   "source": [
    "final_data_final.shape"
   ]
  },
  {
   "cell_type": "code",
   "execution_count": 20,
   "metadata": {},
   "outputs": [
    {
     "data": {
      "text/plain": [
       "Index(['FLAG_OWN_REALTY', 'ORGANIZATION_TYPE', 'STATUS', 'OCCUPATION_TYPE'], dtype='object')"
      ]
     },
     "execution_count": 20,
     "metadata": {},
     "output_type": "execute_result"
    }
   ],
   "source": [
    "final_data_final.select_dtypes(include=['object']).columns"
   ]
  },
  {
   "cell_type": "code",
   "execution_count": 21,
   "metadata": {},
   "outputs": [],
   "source": [
    "X1 =  final_data_final"
   ]
  },
  {
   "cell_type": "markdown",
   "metadata": {},
   "source": [
    "### Now we will resample the data for target = 1 as they were less in number compare to 0.\n",
    "### Now why we need this ?\n",
    "### If we don't do resampling then our model accuracy goes to 92% as Target 0 were around 80% of total and this creates bias in data\n",
    "### Making both target 0 and 1 equal ensures that there is equal probability of chossing a target`"
   ]
  },
  {
   "cell_type": "code",
   "execution_count": 22,
   "metadata": {},
   "outputs": [
    {
     "data": {
      "text/plain": [
       "1    243123\n",
       "0    174046\n",
       "Name: TARGET, dtype: int64"
      ]
     },
     "execution_count": 22,
     "metadata": {},
     "output_type": "execute_result"
    }
   ],
   "source": [
    "from sklearn.utils import resample\n",
    "\n",
    "df_majority=final_data_final[final_data_final.TARGET==0]\n",
    "df_minority=final_data_final[final_data_final.TARGET==1]\n",
    "\n",
    "# upsample minority class\n",
    "df_final_upsampled=resample(df_minority,replace=True,n_samples=243123,random_state=42)\n",
    "\n",
    "# combine majority class with minority upsampled class\n",
    "\n",
    "df_new=pd.concat([df_majority,df_final_upsampled])\n",
    "df_new.TARGET.value_counts()"
   ]
  },
  {
   "cell_type": "code",
   "execution_count": 23,
   "metadata": {},
   "outputs": [
    {
     "data": {
      "text/plain": [
       "Index(['SK_ID_CURR', 'TARGET', 'FLAG_OWN_REALTY', 'ORGANIZATION_TYPE',\n",
       "       'STATUS', 'OCCUPATION_TYPE', 'DAYS_CREDIT',\n",
       "       'REGION_RATING_CLIENT_W_CITY', 'AMT_CREDIT_LIMIT_ACTUAL', 'DAYS_BIRTH',\n",
       "       'DAYS_CREDIT_UPDATE', 'AMT_CREDIT_SUM_DEBT', 'AMT_INCOME_TOTAL',\n",
       "       'AMT_PAYMENT_TOTAL_CURRENT', 'CNT_CREDIT_PROLONG', 'FLAG_DOCUMENT_3',\n",
       "       'NUM_INSTALMENT_NUMBER', 'REG_CITY_NOT_WORK_CITY', 'DAYS_EMPLOYED',\n",
       "       'CNT_CHILDREN', 'DAYS_CREDIT_ENDDATE', 'DEF_60_CNT_SOCIAL_CIRCLE',\n",
       "       'AMT_REQ_CREDIT_BUREAU_MON', 'AMT_APPLICATION',\n",
       "       'DAYS_LAST_PHONE_CHANGE', 'AMT_TOTAL_RECEIVABLE',\n",
       "       'AMT_CREDIT_SUM_OVERDUE', 'NUM_INSTALMENT_VERSION'],\n",
       "      dtype='object')"
      ]
     },
     "execution_count": 23,
     "metadata": {},
     "output_type": "execute_result"
    }
   ],
   "source": [
    "df_new.columns"
   ]
  },
  {
   "cell_type": "markdown",
   "metadata": {},
   "source": [
    "#### Encoding  for Categorical variable "
   ]
  },
  {
   "cell_type": "code",
   "execution_count": 24,
   "metadata": {},
   "outputs": [],
   "source": [
    "One_hot =pd.get_dummies(df_new.select_dtypes(include=['object']),columns=['FLAG_OWN_REALTY', 'ORGANIZATION_TYPE', 'STATUS', 'OCCUPATION_TYPE'] ,drop_first=True)\n",
    "#df_one_hot = pd.concat([df_post_multcol.iloc[0:,0:8],One_hot] , axis=1)\n",
    "#df_one_hot.drop(['Origin'] , axis=1 , inplace =True)\n",
    "#df_one_hot"
   ]
  },
  {
   "cell_type": "markdown",
   "metadata": {},
   "source": [
    "## concating the categorical and numerical after encoding categorical Variable"
   ]
  },
  {
   "cell_type": "code",
   "execution_count": 25,
   "metadata": {},
   "outputs": [
    {
     "data": {
      "text/html": [
       "<div>\n",
       "<style scoped>\n",
       "    .dataframe tbody tr th:only-of-type {\n",
       "        vertical-align: middle;\n",
       "    }\n",
       "\n",
       "    .dataframe tbody tr th {\n",
       "        vertical-align: top;\n",
       "    }\n",
       "\n",
       "    .dataframe thead th {\n",
       "        text-align: right;\n",
       "    }\n",
       "</style>\n",
       "<table border=\"1\" class=\"dataframe\">\n",
       "  <thead>\n",
       "    <tr style=\"text-align: right;\">\n",
       "      <th></th>\n",
       "      <th>SK_ID_CURR</th>\n",
       "      <th>TARGET</th>\n",
       "      <th>DAYS_CREDIT</th>\n",
       "      <th>REGION_RATING_CLIENT_W_CITY</th>\n",
       "      <th>AMT_CREDIT_LIMIT_ACTUAL</th>\n",
       "      <th>DAYS_BIRTH</th>\n",
       "      <th>DAYS_CREDIT_UPDATE</th>\n",
       "      <th>AMT_CREDIT_SUM_DEBT</th>\n",
       "      <th>AMT_INCOME_TOTAL</th>\n",
       "      <th>AMT_PAYMENT_TOTAL_CURRENT</th>\n",
       "      <th>...</th>\n",
       "      <th>OCCUPATION_TYPE_Laborers</th>\n",
       "      <th>OCCUPATION_TYPE_Low-skill Laborers</th>\n",
       "      <th>OCCUPATION_TYPE_Managers</th>\n",
       "      <th>OCCUPATION_TYPE_Medicine staff</th>\n",
       "      <th>OCCUPATION_TYPE_Private service staff</th>\n",
       "      <th>OCCUPATION_TYPE_Realty agents</th>\n",
       "      <th>OCCUPATION_TYPE_Sales staff</th>\n",
       "      <th>OCCUPATION_TYPE_Secretaries</th>\n",
       "      <th>OCCUPATION_TYPE_Security staff</th>\n",
       "      <th>OCCUPATION_TYPE_Waiters/barmen staff</th>\n",
       "    </tr>\n",
       "  </thead>\n",
       "  <tbody>\n",
       "    <tr>\n",
       "      <th>1</th>\n",
       "      <td>100003</td>\n",
       "      <td>0</td>\n",
       "      <td>-2586</td>\n",
       "      <td>1</td>\n",
       "      <td>45000.0</td>\n",
       "      <td>-16765</td>\n",
       "      <td>-2131</td>\n",
       "      <td>0.0</td>\n",
       "      <td>270000.0</td>\n",
       "      <td>0.0</td>\n",
       "      <td>...</td>\n",
       "      <td>0</td>\n",
       "      <td>0</td>\n",
       "      <td>0</td>\n",
       "      <td>0</td>\n",
       "      <td>0</td>\n",
       "      <td>0</td>\n",
       "      <td>0</td>\n",
       "      <td>0</td>\n",
       "      <td>0</td>\n",
       "      <td>0</td>\n",
       "    </tr>\n",
       "    <tr>\n",
       "      <th>2</th>\n",
       "      <td>100004</td>\n",
       "      <td>0</td>\n",
       "      <td>-1326</td>\n",
       "      <td>2</td>\n",
       "      <td>45000.0</td>\n",
       "      <td>-19046</td>\n",
       "      <td>-682</td>\n",
       "      <td>0.0</td>\n",
       "      <td>67500.0</td>\n",
       "      <td>0.0</td>\n",
       "      <td>...</td>\n",
       "      <td>1</td>\n",
       "      <td>0</td>\n",
       "      <td>0</td>\n",
       "      <td>0</td>\n",
       "      <td>0</td>\n",
       "      <td>0</td>\n",
       "      <td>0</td>\n",
       "      <td>0</td>\n",
       "      <td>0</td>\n",
       "      <td>0</td>\n",
       "    </tr>\n",
       "    <tr>\n",
       "      <th>3</th>\n",
       "      <td>100008</td>\n",
       "      <td>0</td>\n",
       "      <td>-1097</td>\n",
       "      <td>2</td>\n",
       "      <td>45000.0</td>\n",
       "      <td>-16941</td>\n",
       "      <td>-1027</td>\n",
       "      <td>0.0</td>\n",
       "      <td>99000.0</td>\n",
       "      <td>0.0</td>\n",
       "      <td>...</td>\n",
       "      <td>1</td>\n",
       "      <td>0</td>\n",
       "      <td>0</td>\n",
       "      <td>0</td>\n",
       "      <td>0</td>\n",
       "      <td>0</td>\n",
       "      <td>0</td>\n",
       "      <td>0</td>\n",
       "      <td>0</td>\n",
       "      <td>0</td>\n",
       "    </tr>\n",
       "    <tr>\n",
       "      <th>4</th>\n",
       "      <td>100009</td>\n",
       "      <td>0</td>\n",
       "      <td>-1259</td>\n",
       "      <td>2</td>\n",
       "      <td>45000.0</td>\n",
       "      <td>-13778</td>\n",
       "      <td>-983</td>\n",
       "      <td>0.0</td>\n",
       "      <td>171000.0</td>\n",
       "      <td>0.0</td>\n",
       "      <td>...</td>\n",
       "      <td>0</td>\n",
       "      <td>0</td>\n",
       "      <td>0</td>\n",
       "      <td>0</td>\n",
       "      <td>0</td>\n",
       "      <td>0</td>\n",
       "      <td>0</td>\n",
       "      <td>0</td>\n",
       "      <td>0</td>\n",
       "      <td>0</td>\n",
       "    </tr>\n",
       "    <tr>\n",
       "      <th>5</th>\n",
       "      <td>100011</td>\n",
       "      <td>0</td>\n",
       "      <td>-2508</td>\n",
       "      <td>2</td>\n",
       "      <td>180000.0</td>\n",
       "      <td>-20099</td>\n",
       "      <td>-2172</td>\n",
       "      <td>0.0</td>\n",
       "      <td>112500.0</td>\n",
       "      <td>9000.0</td>\n",
       "      <td>...</td>\n",
       "      <td>1</td>\n",
       "      <td>0</td>\n",
       "      <td>0</td>\n",
       "      <td>0</td>\n",
       "      <td>0</td>\n",
       "      <td>0</td>\n",
       "      <td>0</td>\n",
       "      <td>0</td>\n",
       "      <td>0</td>\n",
       "      <td>0</td>\n",
       "    </tr>\n",
       "    <tr>\n",
       "      <th>...</th>\n",
       "      <td>...</td>\n",
       "      <td>...</td>\n",
       "      <td>...</td>\n",
       "      <td>...</td>\n",
       "      <td>...</td>\n",
       "      <td>...</td>\n",
       "      <td>...</td>\n",
       "      <td>...</td>\n",
       "      <td>...</td>\n",
       "      <td>...</td>\n",
       "      <td>...</td>\n",
       "      <td>...</td>\n",
       "      <td>...</td>\n",
       "      <td>...</td>\n",
       "      <td>...</td>\n",
       "      <td>...</td>\n",
       "      <td>...</td>\n",
       "      <td>...</td>\n",
       "      <td>...</td>\n",
       "      <td>...</td>\n",
       "      <td>...</td>\n",
       "    </tr>\n",
       "    <tr>\n",
       "      <th>101259</th>\n",
       "      <td>290962</td>\n",
       "      <td>1</td>\n",
       "      <td>-228</td>\n",
       "      <td>3</td>\n",
       "      <td>45000.0</td>\n",
       "      <td>-15138</td>\n",
       "      <td>-13</td>\n",
       "      <td>0.0</td>\n",
       "      <td>113400.0</td>\n",
       "      <td>0.0</td>\n",
       "      <td>...</td>\n",
       "      <td>1</td>\n",
       "      <td>0</td>\n",
       "      <td>0</td>\n",
       "      <td>0</td>\n",
       "      <td>0</td>\n",
       "      <td>0</td>\n",
       "      <td>0</td>\n",
       "      <td>0</td>\n",
       "      <td>0</td>\n",
       "      <td>0</td>\n",
       "    </tr>\n",
       "    <tr>\n",
       "      <th>123981</th>\n",
       "      <td>334219</td>\n",
       "      <td>1</td>\n",
       "      <td>-784</td>\n",
       "      <td>2</td>\n",
       "      <td>45000.0</td>\n",
       "      <td>-8986</td>\n",
       "      <td>-427</td>\n",
       "      <td>0.0</td>\n",
       "      <td>247500.0</td>\n",
       "      <td>0.0</td>\n",
       "      <td>...</td>\n",
       "      <td>1</td>\n",
       "      <td>0</td>\n",
       "      <td>0</td>\n",
       "      <td>0</td>\n",
       "      <td>0</td>\n",
       "      <td>0</td>\n",
       "      <td>0</td>\n",
       "      <td>0</td>\n",
       "      <td>0</td>\n",
       "      <td>0</td>\n",
       "    </tr>\n",
       "    <tr>\n",
       "      <th>21772</th>\n",
       "      <td>140977</td>\n",
       "      <td>1</td>\n",
       "      <td>-859</td>\n",
       "      <td>2</td>\n",
       "      <td>45000.0</td>\n",
       "      <td>-11481</td>\n",
       "      <td>-36</td>\n",
       "      <td>0.0</td>\n",
       "      <td>216000.0</td>\n",
       "      <td>0.0</td>\n",
       "      <td>...</td>\n",
       "      <td>0</td>\n",
       "      <td>0</td>\n",
       "      <td>0</td>\n",
       "      <td>0</td>\n",
       "      <td>0</td>\n",
       "      <td>0</td>\n",
       "      <td>1</td>\n",
       "      <td>0</td>\n",
       "      <td>0</td>\n",
       "      <td>0</td>\n",
       "    </tr>\n",
       "    <tr>\n",
       "      <th>63993</th>\n",
       "      <td>220798</td>\n",
       "      <td>1</td>\n",
       "      <td>-1797</td>\n",
       "      <td>2</td>\n",
       "      <td>90000.0</td>\n",
       "      <td>-18527</td>\n",
       "      <td>-1432</td>\n",
       "      <td>0.0</td>\n",
       "      <td>180000.0</td>\n",
       "      <td>0.0</td>\n",
       "      <td>...</td>\n",
       "      <td>1</td>\n",
       "      <td>0</td>\n",
       "      <td>0</td>\n",
       "      <td>0</td>\n",
       "      <td>0</td>\n",
       "      <td>0</td>\n",
       "      <td>0</td>\n",
       "      <td>0</td>\n",
       "      <td>0</td>\n",
       "      <td>0</td>\n",
       "    </tr>\n",
       "    <tr>\n",
       "      <th>123776</th>\n",
       "      <td>333847</td>\n",
       "      <td>1</td>\n",
       "      <td>-1032</td>\n",
       "      <td>2</td>\n",
       "      <td>45000.0</td>\n",
       "      <td>-24340</td>\n",
       "      <td>-316</td>\n",
       "      <td>0.0</td>\n",
       "      <td>112500.0</td>\n",
       "      <td>0.0</td>\n",
       "      <td>...</td>\n",
       "      <td>1</td>\n",
       "      <td>0</td>\n",
       "      <td>0</td>\n",
       "      <td>0</td>\n",
       "      <td>0</td>\n",
       "      <td>0</td>\n",
       "      <td>0</td>\n",
       "      <td>0</td>\n",
       "      <td>0</td>\n",
       "      <td>0</td>\n",
       "    </tr>\n",
       "  </tbody>\n",
       "</table>\n",
       "<p>417169 rows × 105 columns</p>\n",
       "</div>"
      ],
      "text/plain": [
       "        SK_ID_CURR  TARGET  DAYS_CREDIT  REGION_RATING_CLIENT_W_CITY  \\\n",
       "1           100003       0        -2586                            1   \n",
       "2           100004       0        -1326                            2   \n",
       "3           100008       0        -1097                            2   \n",
       "4           100009       0        -1259                            2   \n",
       "5           100011       0        -2508                            2   \n",
       "...            ...     ...          ...                          ...   \n",
       "101259      290962       1         -228                            3   \n",
       "123981      334219       1         -784                            2   \n",
       "21772       140977       1         -859                            2   \n",
       "63993       220798       1        -1797                            2   \n",
       "123776      333847       1        -1032                            2   \n",
       "\n",
       "        AMT_CREDIT_LIMIT_ACTUAL  DAYS_BIRTH  DAYS_CREDIT_UPDATE  \\\n",
       "1                       45000.0      -16765               -2131   \n",
       "2                       45000.0      -19046                -682   \n",
       "3                       45000.0      -16941               -1027   \n",
       "4                       45000.0      -13778                -983   \n",
       "5                      180000.0      -20099               -2172   \n",
       "...                         ...         ...                 ...   \n",
       "101259                  45000.0      -15138                 -13   \n",
       "123981                  45000.0       -8986                -427   \n",
       "21772                   45000.0      -11481                 -36   \n",
       "63993                   90000.0      -18527               -1432   \n",
       "123776                  45000.0      -24340                -316   \n",
       "\n",
       "        AMT_CREDIT_SUM_DEBT  AMT_INCOME_TOTAL  AMT_PAYMENT_TOTAL_CURRENT  ...  \\\n",
       "1                       0.0          270000.0                        0.0  ...   \n",
       "2                       0.0           67500.0                        0.0  ...   \n",
       "3                       0.0           99000.0                        0.0  ...   \n",
       "4                       0.0          171000.0                        0.0  ...   \n",
       "5                       0.0          112500.0                     9000.0  ...   \n",
       "...                     ...               ...                        ...  ...   \n",
       "101259                  0.0          113400.0                        0.0  ...   \n",
       "123981                  0.0          247500.0                        0.0  ...   \n",
       "21772                   0.0          216000.0                        0.0  ...   \n",
       "63993                   0.0          180000.0                        0.0  ...   \n",
       "123776                  0.0          112500.0                        0.0  ...   \n",
       "\n",
       "        OCCUPATION_TYPE_Laborers  OCCUPATION_TYPE_Low-skill Laborers  \\\n",
       "1                              0                                   0   \n",
       "2                              1                                   0   \n",
       "3                              1                                   0   \n",
       "4                              0                                   0   \n",
       "5                              1                                   0   \n",
       "...                          ...                                 ...   \n",
       "101259                         1                                   0   \n",
       "123981                         1                                   0   \n",
       "21772                          0                                   0   \n",
       "63993                          1                                   0   \n",
       "123776                         1                                   0   \n",
       "\n",
       "        OCCUPATION_TYPE_Managers  OCCUPATION_TYPE_Medicine staff  \\\n",
       "1                              0                               0   \n",
       "2                              0                               0   \n",
       "3                              0                               0   \n",
       "4                              0                               0   \n",
       "5                              0                               0   \n",
       "...                          ...                             ...   \n",
       "101259                         0                               0   \n",
       "123981                         0                               0   \n",
       "21772                          0                               0   \n",
       "63993                          0                               0   \n",
       "123776                         0                               0   \n",
       "\n",
       "        OCCUPATION_TYPE_Private service staff  OCCUPATION_TYPE_Realty agents  \\\n",
       "1                                           0                              0   \n",
       "2                                           0                              0   \n",
       "3                                           0                              0   \n",
       "4                                           0                              0   \n",
       "5                                           0                              0   \n",
       "...                                       ...                            ...   \n",
       "101259                                      0                              0   \n",
       "123981                                      0                              0   \n",
       "21772                                       0                              0   \n",
       "63993                                       0                              0   \n",
       "123776                                      0                              0   \n",
       "\n",
       "        OCCUPATION_TYPE_Sales staff  OCCUPATION_TYPE_Secretaries  \\\n",
       "1                                 0                            0   \n",
       "2                                 0                            0   \n",
       "3                                 0                            0   \n",
       "4                                 0                            0   \n",
       "5                                 0                            0   \n",
       "...                             ...                          ...   \n",
       "101259                            0                            0   \n",
       "123981                            0                            0   \n",
       "21772                             1                            0   \n",
       "63993                             0                            0   \n",
       "123776                            0                            0   \n",
       "\n",
       "        OCCUPATION_TYPE_Security staff  OCCUPATION_TYPE_Waiters/barmen staff  \n",
       "1                                    0                                     0  \n",
       "2                                    0                                     0  \n",
       "3                                    0                                     0  \n",
       "4                                    0                                     0  \n",
       "5                                    0                                     0  \n",
       "...                                ...                                   ...  \n",
       "101259                               0                                     0  \n",
       "123981                               0                                     0  \n",
       "21772                                0                                     0  \n",
       "63993                                0                                     0  \n",
       "123776                               0                                     0  \n",
       "\n",
       "[417169 rows x 105 columns]"
      ]
     },
     "execution_count": 25,
     "metadata": {},
     "output_type": "execute_result"
    }
   ],
   "source": [
    "df_one_hot = pd.concat([df_new.select_dtypes(exclude=['object']),One_hot] , axis=1)\n",
    "df_one_hot"
   ]
  },
  {
   "cell_type": "code",
   "execution_count": 26,
   "metadata": {},
   "outputs": [],
   "source": [
    "#One_hot"
   ]
  },
  {
   "cell_type": "code",
   "execution_count": 27,
   "metadata": {},
   "outputs": [
    {
     "data": {
      "text/plain": [
       "(417169, 105)"
      ]
     },
     "execution_count": 27,
     "metadata": {},
     "output_type": "execute_result"
    }
   ],
   "source": [
    "df_one_hot.shape"
   ]
  },
  {
   "cell_type": "code",
   "execution_count": 28,
   "metadata": {
    "scrolled": true
   },
   "outputs": [
    {
     "data": {
      "text/plain": [
       "1    243123\n",
       "0    174046\n",
       "Name: TARGET, dtype: int64"
      ]
     },
     "execution_count": 28,
     "metadata": {},
     "output_type": "execute_result"
    }
   ],
   "source": [
    "df_one_hot.TARGET.value_counts()"
   ]
  },
  {
   "cell_type": "markdown",
   "metadata": {},
   "source": [
    "### Importing train test split library from Sk-learn"
   ]
  },
  {
   "cell_type": "code",
   "execution_count": 29,
   "metadata": {},
   "outputs": [],
   "source": [
    "from sklearn.model_selection import train_test_split\n",
    "X= df_one_hot.drop(['TARGET'],axis=1)\n",
    "y=df_one_hot['TARGET']\n",
    "X_train, X_test, y_train, y_test = train_test_split(X, y, test_size=0.20, random_state=42)"
   ]
  },
  {
   "cell_type": "markdown",
   "metadata": {},
   "source": [
    "## Checking the shape of train split files"
   ]
  },
  {
   "cell_type": "code",
   "execution_count": 30,
   "metadata": {},
   "outputs": [
    {
     "name": "stdout",
     "output_type": "stream",
     "text": [
      "X_train shape :  (333735, 104)\n",
      "y_train shape :  (333735,)\n",
      "X_test shape :  (83434, 104)\n",
      "y_test shape :  (83434,)\n"
     ]
    }
   ],
   "source": [
    "print(\"X_train shape : \",X_train.shape)\n",
    "print(\"y_train shape : \",y_train.shape)\n",
    "print(\"X_test shape : \",X_test.shape)\n",
    "print(\"y_test shape : \",y_test.shape)"
   ]
  },
  {
   "cell_type": "code",
   "execution_count": 31,
   "metadata": {},
   "outputs": [
    {
     "name": "stdout",
     "output_type": "stream",
     "text": [
      "X_train_scale :  (333735, 104)\n"
     ]
    }
   ],
   "source": [
    "from sklearn.preprocessing import StandardScaler\n",
    "scaler = StandardScaler()\n",
    "dfscale_train_x = scaler.fit_transform(X_train)\n",
    "\n",
    "print(\"X_train_scale : \",dfscale_train_x.shape)"
   ]
  },
  {
   "cell_type": "code",
   "execution_count": 32,
   "metadata": {},
   "outputs": [
    {
     "data": {
      "text/plain": [
       "array([[ 1.71562427,  0.91230389, -0.18205344, ..., -0.06226814,\n",
       "        -0.16000632, -0.0704454 ],\n",
       "       [-0.34062338, -0.11463155,  1.82500275, ..., -0.06226814,\n",
       "        -0.16000632, -0.0704454 ],\n",
       "       [-0.77163589, -0.00196206, -0.18205344, ..., -0.06226814,\n",
       "        -0.16000632, -0.0704454 ],\n",
       "       ...,\n",
       "       [ 0.90212042, -1.4079834 , -0.18205344, ..., -0.06226814,\n",
       "        -0.16000632, -0.0704454 ],\n",
       "       [ 1.19932475,  0.76794611, -0.18205344, ..., -0.06226814,\n",
       "        -0.16000632, -0.0704454 ],\n",
       "       [ 0.70396472,  0.71513229, -0.18205344, ..., -0.06226814,\n",
       "        -0.16000632, -0.0704454 ]])"
      ]
     },
     "execution_count": 32,
     "metadata": {},
     "output_type": "execute_result"
    }
   ],
   "source": [
    "dfscale_train_x"
   ]
  },
  {
   "cell_type": "markdown",
   "metadata": {},
   "source": [
    "## Imporiting LogisticRegression from sklearn"
   ]
  },
  {
   "cell_type": "code",
   "execution_count": 33,
   "metadata": {},
   "outputs": [
    {
     "data": {
      "text/plain": [
       "LogisticRegression(C=1.0, class_weight=None, dual=False, fit_intercept=False,\n",
       "                   intercept_scaling=1, l1_ratio=None, max_iter=1000,\n",
       "                   multi_class='auto', n_jobs=None, penalty='l2',\n",
       "                   random_state=None, solver='lbfgs', tol=0.0001, verbose=0,\n",
       "                   warm_start=False)"
      ]
     },
     "execution_count": 33,
     "metadata": {},
     "output_type": "execute_result"
    }
   ],
   "source": [
    "from sklearn.linear_model import LogisticRegression\n",
    "\n",
    "from mlxtend.feature_selection import SequentialFeatureSelector as sfs\n",
    "\n",
    "reg = LogisticRegression(max_iter=1000,fit_intercept=False)\n",
    "reg.fit(dfscale_train_x,y_train)"
   ]
  },
  {
   "cell_type": "code",
   "execution_count": 34,
   "metadata": {},
   "outputs": [],
   "source": [
    "from sklearn.feature_selection import RFE\n",
    "\n",
    "predictors=dfscale_train_x\n",
    "selector=RFE(reg,n_features_to_select=10,step=5)\n",
    "selector=selector.fit(predictors,y_train)"
   ]
  },
  {
   "cell_type": "code",
   "execution_count": 35,
   "metadata": {},
   "outputs": [
    {
     "data": {
      "text/plain": [
       "['13.REG_CITY_NOT_WORK_CITY',\n",
       " '1.TARGET',\n",
       " '1.TARGET',\n",
       " '3.REGION_RATING_CLIENT_W_CITY',\n",
       " '1.TARGET',\n",
       " '20.DAYS_LAST_PHONE_CHANGE',\n",
       " '9.AMT_PAYMENT_TOTAL_CURRENT',\n",
       " '10.CNT_CREDIT_PROLONG',\n",
       " '8.AMT_INCOME_TOTAL',\n",
       " '14.DAYS_EMPLOYED',\n",
       " '1.TARGET',\n",
       " '11.FLAG_DOCUMENT_3',\n",
       " '3.REGION_RATING_CLIENT_W_CITY',\n",
       " '1.TARGET',\n",
       " '11.FLAG_DOCUMENT_3',\n",
       " '6.DAYS_CREDIT_UPDATE',\n",
       " '2.DAYS_CREDIT',\n",
       " '15.CNT_CHILDREN',\n",
       " '14.DAYS_EMPLOYED',\n",
       " '1.TARGET',\n",
       " '1.TARGET',\n",
       " '4.AMT_CREDIT_LIMIT_ACTUAL',\n",
       " '6.DAYS_CREDIT_UPDATE',\n",
       " '12.NUM_INSTALMENT_NUMBER',\n",
       " '6.DAYS_CREDIT_UPDATE',\n",
       " '5.DAYS_BIRTH',\n",
       " '17.DEF_60_CNT_SOCIAL_CIRCLE',\n",
       " '17.DEF_60_CNT_SOCIAL_CIRCLE',\n",
       " '5.DAYS_BIRTH',\n",
       " '19.AMT_APPLICATION',\n",
       " '4.AMT_CREDIT_LIMIT_ACTUAL',\n",
       " '16.DAYS_CREDIT_ENDDATE',\n",
       " '13.REG_CITY_NOT_WORK_CITY',\n",
       " '13.REG_CITY_NOT_WORK_CITY',\n",
       " '11.FLAG_DOCUMENT_3',\n",
       " '11.FLAG_DOCUMENT_3',\n",
       " '16.DAYS_CREDIT_ENDDATE',\n",
       " '7.AMT_CREDIT_SUM_DEBT',\n",
       " '19.AMT_APPLICATION',\n",
       " '16.DAYS_CREDIT_ENDDATE',\n",
       " '7.AMT_CREDIT_SUM_DEBT',\n",
       " '18.AMT_REQ_CREDIT_BUREAU_MON',\n",
       " '19.AMT_APPLICATION',\n",
       " '7.AMT_CREDIT_SUM_DEBT',\n",
       " '18.AMT_REQ_CREDIT_BUREAU_MON',\n",
       " '15.CNT_CHILDREN',\n",
       " '14.DAYS_EMPLOYED',\n",
       " '17.DEF_60_CNT_SOCIAL_CIRCLE',\n",
       " '15.CNT_CHILDREN',\n",
       " '8.AMT_INCOME_TOTAL',\n",
       " '16.DAYS_CREDIT_ENDDATE',\n",
       " '18.AMT_REQ_CREDIT_BUREAU_MON',\n",
       " '17.DEF_60_CNT_SOCIAL_CIRCLE',\n",
       " '14.DAYS_EMPLOYED',\n",
       " '5.DAYS_BIRTH',\n",
       " '20.DAYS_LAST_PHONE_CHANGE',\n",
       " '13.REG_CITY_NOT_WORK_CITY',\n",
       " '9.AMT_PAYMENT_TOTAL_CURRENT',\n",
       " '8.AMT_INCOME_TOTAL',\n",
       " '7.AMT_CREDIT_SUM_DEBT',\n",
       " '16.DAYS_CREDIT_ENDDATE',\n",
       " '8.AMT_INCOME_TOTAL',\n",
       " '10.CNT_CREDIT_PROLONG',\n",
       " '17.DEF_60_CNT_SOCIAL_CIRCLE',\n",
       " '10.CNT_CREDIT_PROLONG',\n",
       " '4.AMT_CREDIT_LIMIT_ACTUAL',\n",
       " '13.REG_CITY_NOT_WORK_CITY',\n",
       " '12.NUM_INSTALMENT_NUMBER',\n",
       " '19.AMT_APPLICATION',\n",
       " '9.AMT_PAYMENT_TOTAL_CURRENT',\n",
       " '6.DAYS_CREDIT_UPDATE',\n",
       " '14.DAYS_EMPLOYED',\n",
       " '11.FLAG_DOCUMENT_3',\n",
       " '12.NUM_INSTALMENT_NUMBER',\n",
       " '18.AMT_REQ_CREDIT_BUREAU_MON',\n",
       " '10.CNT_CREDIT_PROLONG',\n",
       " '18.AMT_REQ_CREDIT_BUREAU_MON',\n",
       " '7.AMT_CREDIT_SUM_DEBT',\n",
       " '6.DAYS_CREDIT_UPDATE',\n",
       " '12.NUM_INSTALMENT_NUMBER',\n",
       " '1.TARGET',\n",
       " '20.DAYS_LAST_PHONE_CHANGE',\n",
       " '1.TARGET',\n",
       " '10.CNT_CREDIT_PROLONG',\n",
       " '20.DAYS_LAST_PHONE_CHANGE',\n",
       " '19.AMT_APPLICATION',\n",
       " '20.DAYS_LAST_PHONE_CHANGE',\n",
       " '3.REGION_RATING_CLIENT_W_CITY',\n",
       " '3.REGION_RATING_CLIENT_W_CITY',\n",
       " '8.AMT_INCOME_TOTAL',\n",
       " '2.DAYS_CREDIT',\n",
       " '15.CNT_CHILDREN',\n",
       " '5.DAYS_BIRTH',\n",
       " '12.NUM_INSTALMENT_NUMBER',\n",
       " '1.TARGET',\n",
       " '2.DAYS_CREDIT',\n",
       " '4.AMT_CREDIT_LIMIT_ACTUAL',\n",
       " '4.AMT_CREDIT_LIMIT_ACTUAL',\n",
       " '9.AMT_PAYMENT_TOTAL_CURRENT',\n",
       " '15.CNT_CHILDREN',\n",
       " '2.DAYS_CREDIT',\n",
       " '9.AMT_PAYMENT_TOTAL_CURRENT',\n",
       " '3.REGION_RATING_CLIENT_W_CITY',\n",
       " '5.DAYS_BIRTH']"
      ]
     },
     "execution_count": 35,
     "metadata": {},
     "output_type": "execute_result"
    }
   ],
   "source": [
    "order=selector.ranking_\n",
    "feature_ranks=[]\n",
    "for i in order:\n",
    "    feature_ranks.append(f\"{i}.{df_one_hot.columns[i]}\")\n",
    "    \n",
    "feature_ranks"
   ]
  },
  {
   "cell_type": "code",
   "execution_count": 36,
   "metadata": {},
   "outputs": [],
   "source": [
    "unique_features=[]\n",
    "unique = [x for x in feature_ranks if x not in unique_features and (unique_features.append(x) or True)]"
   ]
  },
  {
   "cell_type": "code",
   "execution_count": 37,
   "metadata": {},
   "outputs": [
    {
     "data": {
      "text/plain": [
       "['13.REG_CITY_NOT_WORK_CITY',\n",
       " '1.TARGET',\n",
       " '3.REGION_RATING_CLIENT_W_CITY',\n",
       " '20.DAYS_LAST_PHONE_CHANGE',\n",
       " '9.AMT_PAYMENT_TOTAL_CURRENT',\n",
       " '10.CNT_CREDIT_PROLONG',\n",
       " '8.AMT_INCOME_TOTAL',\n",
       " '14.DAYS_EMPLOYED',\n",
       " '11.FLAG_DOCUMENT_3',\n",
       " '6.DAYS_CREDIT_UPDATE',\n",
       " '2.DAYS_CREDIT',\n",
       " '15.CNT_CHILDREN',\n",
       " '4.AMT_CREDIT_LIMIT_ACTUAL',\n",
       " '12.NUM_INSTALMENT_NUMBER',\n",
       " '5.DAYS_BIRTH',\n",
       " '17.DEF_60_CNT_SOCIAL_CIRCLE',\n",
       " '19.AMT_APPLICATION',\n",
       " '16.DAYS_CREDIT_ENDDATE',\n",
       " '7.AMT_CREDIT_SUM_DEBT',\n",
       " '18.AMT_REQ_CREDIT_BUREAU_MON']"
      ]
     },
     "execution_count": 37,
     "metadata": {},
     "output_type": "execute_result"
    }
   ],
   "source": [
    "unique_features"
   ]
  },
  {
   "cell_type": "code",
   "execution_count": 38,
   "metadata": {},
   "outputs": [],
   "source": [
    "# selected important features in Xtrain \n",
    "df_imp_features_X_train=X_train[['SK_ID_CURR','DAYS_CREDIT','REGION_RATING_CLIENT_W_CITY','NUM_INSTALMENT_NUMBER','DAYS_CREDIT_UPDATE',\n",
    " 'DEF_60_CNT_SOCIAL_CIRCLE','AMT_CREDIT_SUM_DEBT','DAYS_CREDIT_ENDDATE','CNT_CHILDREN','AMT_CREDIT_LIMIT_ACTUAL',\n",
    " 'CNT_CREDIT_PROLONG','AMT_INCOME_TOTAL','REG_CITY_NOT_WORK_CITY','DAYS_LAST_PHONE_CHANGE','AMT_PAYMENT_TOTAL_CURRENT',\n",
    " 'DAYS_EMPLOYED','AMT_APPLICATION','AMT_REQ_CREDIT_BUREAU_MON','AMT_TOTAL_RECEIVABLE','DAYS_BIRTH','FLAG_DOCUMENT_3']]"
   ]
  },
  {
   "cell_type": "code",
   "execution_count": 39,
   "metadata": {},
   "outputs": [
    {
     "data": {
      "text/plain": [
       "(333735, 21)"
      ]
     },
     "execution_count": 39,
     "metadata": {},
     "output_type": "execute_result"
    }
   ],
   "source": [
    "df_imp_features_X_train.shape"
   ]
  },
  {
   "cell_type": "code",
   "execution_count": 40,
   "metadata": {},
   "outputs": [
    {
     "name": "stdout",
     "output_type": "stream",
     "text": [
      "X_train_scale :  (333735, 21)\n"
     ]
    }
   ],
   "source": [
    "from sklearn.preprocessing import StandardScaler\n",
    "scaler = StandardScaler()\n",
    "dfscale_train_x_imp = scaler.fit_transform(df_imp_features_X_train)\n",
    "\n",
    "print(\"X_train_scale : \",dfscale_train_x_imp.shape)"
   ]
  },
  {
   "cell_type": "code",
   "execution_count": 41,
   "metadata": {},
   "outputs": [
    {
     "data": {
      "text/plain": [
       "LogisticRegression(C=1.0, class_weight=None, dual=False, fit_intercept=True,\n",
       "                   intercept_scaling=1, l1_ratio=None, max_iter=1000,\n",
       "                   multi_class='auto', n_jobs=None, penalty='l2',\n",
       "                   random_state=42, solver='lbfgs', tol=0.0001, verbose=0,\n",
       "                   warm_start=False)"
      ]
     },
     "execution_count": 41,
     "metadata": {},
     "output_type": "execute_result"
    }
   ],
   "source": [
    "from sklearn.linear_model import LogisticRegression\n",
    "# Call LR classifier\n",
    "LR_reg = LogisticRegression(random_state=42,max_iter=1000)\n",
    "# Train LR classifier\n",
    "LR_reg.fit(dfscale_train_x_imp, y_train)"
   ]
  },
  {
   "cell_type": "code",
   "execution_count": 42,
   "metadata": {},
   "outputs": [
    {
     "data": {
      "text/plain": [
       "array([0.61843978, 0.6162674 , 0.61629736, 0.61628238, 0.62043238])"
      ]
     },
     "execution_count": 42,
     "metadata": {},
     "output_type": "execute_result"
    }
   ],
   "source": [
    "from sklearn.model_selection import cross_val_score\n",
    "LRAccuracy=cross_val_score(LR_reg,dfscale_train_x_imp, y_train,cv=5, scoring=\"accuracy\")\n",
    "LRAccuracy"
   ]
  },
  {
   "cell_type": "markdown",
   "metadata": {},
   "source": [
    "# Checking the accuracy of model "
   ]
  },
  {
   "cell_type": "code",
   "execution_count": 43,
   "metadata": {},
   "outputs": [
    {
     "data": {
      "text/plain": [
       "0.618"
      ]
     },
     "execution_count": 43,
     "metadata": {},
     "output_type": "execute_result"
    }
   ],
   "source": [
    "import numpy as np\n",
    "round(np.mean(LRAccuracy),3)"
   ]
  },
  {
   "cell_type": "markdown",
   "metadata": {},
   "source": [
    "# Confusion Matrix"
   ]
  },
  {
   "cell_type": "code",
   "execution_count": 44,
   "metadata": {},
   "outputs": [
    {
     "name": "stdout",
     "output_type": "stream",
     "text": [
      "              precision    recall  f1-score   support\n",
      "\n",
      "           0       0.57      0.34      0.42    139191\n",
      "           1       0.63      0.82      0.71    194544\n",
      "\n",
      "    accuracy                           0.62    333735\n",
      "   macro avg       0.60      0.58      0.57    333735\n",
      "weighted avg       0.61      0.62      0.59    333735\n",
      "\n"
     ]
    }
   ],
   "source": [
    "from sklearn.model_selection import cross_val_predict\n",
    "from sklearn.metrics import confusion_matrix,classification_report\n",
    "y_train_pred_LR = cross_val_predict(LR_reg,dfscale_train_x_imp, y_train, cv=5)\n",
    "print(classification_report(y_train, y_train_pred_LR))\n"
   ]
  },
  {
   "cell_type": "code",
   "execution_count": 45,
   "metadata": {
    "scrolled": true
   },
   "outputs": [
    {
     "name": "stderr",
     "output_type": "stream",
     "text": [
      "C:\\ProgramData\\Anaconda3\\lib\\site-packages\\sklearn\\linear_model\\_logistic.py:1505: UserWarning: Setting penalty='none' will ignore the C and l1_ratio parameters\n",
      "  \"Setting penalty='none' will ignore the C and l1_ratio \"\n",
      "C:\\ProgramData\\Anaconda3\\lib\\site-packages\\sklearn\\linear_model\\_logistic.py:1505: UserWarning: Setting penalty='none' will ignore the C and l1_ratio parameters\n",
      "  \"Setting penalty='none' will ignore the C and l1_ratio \"\n",
      "C:\\ProgramData\\Anaconda3\\lib\\site-packages\\sklearn\\linear_model\\_logistic.py:1505: UserWarning: Setting penalty='none' will ignore the C and l1_ratio parameters\n",
      "  \"Setting penalty='none' will ignore the C and l1_ratio \"\n",
      "C:\\ProgramData\\Anaconda3\\lib\\site-packages\\scipy\\optimize\\linesearch.py:314: LineSearchWarning: The line search algorithm did not converge\n",
      "  warn('The line search algorithm did not converge', LineSearchWarning)\n",
      "C:\\ProgramData\\Anaconda3\\lib\\site-packages\\sklearn\\utils\\optimize.py:204: UserWarning: Line Search failed\n",
      "  warnings.warn('Line Search failed')\n",
      "C:\\ProgramData\\Anaconda3\\lib\\site-packages\\sklearn\\linear_model\\_logistic.py:1505: UserWarning: Setting penalty='none' will ignore the C and l1_ratio parameters\n",
      "  \"Setting penalty='none' will ignore the C and l1_ratio \"\n",
      "C:\\ProgramData\\Anaconda3\\lib\\site-packages\\sklearn\\linear_model\\_logistic.py:1505: UserWarning: Setting penalty='none' will ignore the C and l1_ratio parameters\n",
      "  \"Setting penalty='none' will ignore the C and l1_ratio \"\n",
      "C:\\ProgramData\\Anaconda3\\lib\\site-packages\\scipy\\optimize\\linesearch.py:314: LineSearchWarning: The line search algorithm did not converge\n",
      "  warn('The line search algorithm did not converge', LineSearchWarning)\n",
      "C:\\ProgramData\\Anaconda3\\lib\\site-packages\\sklearn\\utils\\optimize.py:204: UserWarning: Line Search failed\n",
      "  warnings.warn('Line Search failed')\n",
      "C:\\ProgramData\\Anaconda3\\lib\\site-packages\\scipy\\optimize\\linesearch.py:426: LineSearchWarning: Rounding errors prevent the line search from converging\n",
      "  warn(msg, LineSearchWarning)\n",
      "C:\\ProgramData\\Anaconda3\\lib\\site-packages\\scipy\\optimize\\linesearch.py:314: LineSearchWarning: The line search algorithm did not converge\n",
      "  warn('The line search algorithm did not converge', LineSearchWarning)\n",
      "C:\\ProgramData\\Anaconda3\\lib\\site-packages\\sklearn\\utils\\optimize.py:204: UserWarning: Line Search failed\n",
      "  warnings.warn('Line Search failed')\n",
      "C:\\ProgramData\\Anaconda3\\lib\\site-packages\\sklearn\\linear_model\\_logistic.py:1505: UserWarning: Setting penalty='none' will ignore the C and l1_ratio parameters\n",
      "  \"Setting penalty='none' will ignore the C and l1_ratio \"\n",
      "C:\\ProgramData\\Anaconda3\\lib\\site-packages\\sklearn\\linear_model\\_logistic.py:1505: UserWarning: Setting penalty='none' will ignore the C and l1_ratio parameters\n",
      "  \"Setting penalty='none' will ignore the C and l1_ratio \"\n",
      "C:\\ProgramData\\Anaconda3\\lib\\site-packages\\sklearn\\linear_model\\_logistic.py:1505: UserWarning: Setting penalty='none' will ignore the C and l1_ratio parameters\n",
      "  \"Setting penalty='none' will ignore the C and l1_ratio \"\n",
      "C:\\ProgramData\\Anaconda3\\lib\\site-packages\\sklearn\\linear_model\\_logistic.py:1505: UserWarning: Setting penalty='none' will ignore the C and l1_ratio parameters\n",
      "  \"Setting penalty='none' will ignore the C and l1_ratio \"\n",
      "C:\\ProgramData\\Anaconda3\\lib\\site-packages\\sklearn\\linear_model\\_logistic.py:1505: UserWarning: Setting penalty='none' will ignore the C and l1_ratio parameters\n",
      "  \"Setting penalty='none' will ignore the C and l1_ratio \"\n",
      "C:\\ProgramData\\Anaconda3\\lib\\site-packages\\sklearn\\model_selection\\_validation.py:536: FitFailedWarning: Estimator fit failed. The score on this train-test partition for these parameters will be set to nan. Details: \n",
      "ValueError: Solver newton-cg supports only 'l2' or 'none' penalties, got l1 penalty.\n",
      "\n",
      "  FitFailedWarning)\n",
      "C:\\ProgramData\\Anaconda3\\lib\\site-packages\\sklearn\\model_selection\\_validation.py:536: FitFailedWarning: Estimator fit failed. The score on this train-test partition for these parameters will be set to nan. Details: \n",
      "ValueError: Solver newton-cg supports only 'l2' or 'none' penalties, got elasticnet penalty.\n",
      "\n",
      "  FitFailedWarning)\n",
      "C:\\ProgramData\\Anaconda3\\lib\\site-packages\\sklearn\\model_selection\\_validation.py:536: FitFailedWarning: Estimator fit failed. The score on this train-test partition for these parameters will be set to nan. Details: \n",
      "ValueError: l1_ratio must be between 0 and 1; got (l1_ratio=None)\n",
      "\n",
      "  FitFailedWarning)\n",
      "C:\\ProgramData\\Anaconda3\\lib\\site-packages\\sklearn\\model_selection\\_validation.py:536: FitFailedWarning: Estimator fit failed. The score on this train-test partition for these parameters will be set to nan. Details: \n",
      "ValueError: Solver newton-cg supports only 'l2' or 'none' penalties, got l1 penalty.\n",
      "\n",
      "  FitFailedWarning)\n"
     ]
    },
    {
     "name": "stdout",
     "output_type": "stream",
     "text": [
      "Best params_:  {'solver': 'sag', 'penalty': 'l2', 'max_iter': 100, 'C': 0.23357214690901212}\n",
      "Best_score:  0.6175468560384736\n"
     ]
    }
   ],
   "source": [
    "from sklearn.model_selection import RandomizedSearchCV\n",
    "from sklearn.linear_model import LogisticRegression\n",
    "np.random.seed(42)\n",
    "estimatorLR = LogisticRegression()\n",
    "paramslinear = {'solver':['newton-cg', 'lbfgs', 'liblinear', 'sag', 'saga'],'penalty':['l2', 'l1', 'elasticnet','none'],'max_iter':list(range(10,1000,10)),'C':np.logspace(-4,4,20)}\n",
    "best_result = RandomizedSearchCV(estimatorLR, paramslinear, cv=5, scoring='accuracy')\n",
    "best_result.fit(dfscale_train_x_imp, y_train)\n",
    "print(\"Best params_: \",best_result.best_params_)\n",
    "print(\"Best_score: \",best_result.best_score_)"
   ]
  },
  {
   "cell_type": "code",
   "execution_count": 46,
   "metadata": {
    "scrolled": true
   },
   "outputs": [
    {
     "name": "stderr",
     "output_type": "stream",
     "text": [
      "C:\\ProgramData\\Anaconda3\\lib\\site-packages\\sklearn\\linear_model\\_logistic.py:1505: UserWarning: Setting penalty='none' will ignore the C and l1_ratio parameters\n",
      "  \"Setting penalty='none' will ignore the C and l1_ratio \"\n",
      "C:\\ProgramData\\Anaconda3\\lib\\site-packages\\sklearn\\linear_model\\_logistic.py:1505: UserWarning: Setting penalty='none' will ignore the C and l1_ratio parameters\n",
      "  \"Setting penalty='none' will ignore the C and l1_ratio \"\n",
      "C:\\ProgramData\\Anaconda3\\lib\\site-packages\\sklearn\\linear_model\\_logistic.py:1505: UserWarning: Setting penalty='none' will ignore the C and l1_ratio parameters\n",
      "  \"Setting penalty='none' will ignore the C and l1_ratio \"\n",
      "C:\\ProgramData\\Anaconda3\\lib\\site-packages\\sklearn\\linear_model\\_logistic.py:1505: UserWarning: Setting penalty='none' will ignore the C and l1_ratio parameters\n",
      "  \"Setting penalty='none' will ignore the C and l1_ratio \"\n",
      "C:\\ProgramData\\Anaconda3\\lib\\site-packages\\sklearn\\linear_model\\_logistic.py:1505: UserWarning: Setting penalty='none' will ignore the C and l1_ratio parameters\n",
      "  \"Setting penalty='none' will ignore the C and l1_ratio \"\n",
      "C:\\ProgramData\\Anaconda3\\lib\\site-packages\\sklearn\\linear_model\\_logistic.py:1505: UserWarning: Setting penalty='none' will ignore the C and l1_ratio parameters\n",
      "  \"Setting penalty='none' will ignore the C and l1_ratio \"\n"
     ]
    },
    {
     "name": "stdout",
     "output_type": "stream",
     "text": [
      "[0.61840982 0.6162674  0.61629736 0.61628238 0.62043238]\n",
      "LR Classifier Accuracy(mean of 5 accuracy) After Fine : 0.618\n"
     ]
    }
   ],
   "source": [
    "from sklearn.linear_model import LogisticRegression\n",
    "# Call LR classifier\n",
    "LR_reg_finetune = LogisticRegression(penalty='none', max_iter=270,C=10000,random_state=42)\n",
    "# Train LR classifier\n",
    "LR_reg_finetune.fit(dfscale_train_x_imp, y_train)\n",
    "from sklearn.model_selection import cross_val_score\n",
    "LR_Accuracy=cross_val_score(LR_reg_finetune,dfscale_train_x_imp, y_train, cv=5, scoring=\"accuracy\")\n",
    "print(LR_Accuracy)\n",
    "print(\"LR Classifier Accuracy(mean of 5 accuracy) After Fine :\",round(np.mean(LR_Accuracy),3))\n",
    "LogisticReg_Accuracy1=round(np.mean(LR_Accuracy),3)"
   ]
  },
  {
   "cell_type": "code",
   "execution_count": 47,
   "metadata": {},
   "outputs": [
    {
     "name": "stderr",
     "output_type": "stream",
     "text": [
      "C:\\ProgramData\\Anaconda3\\lib\\site-packages\\sklearn\\linear_model\\_logistic.py:1505: UserWarning: Setting penalty='none' will ignore the C and l1_ratio parameters\n",
      "  \"Setting penalty='none' will ignore the C and l1_ratio \"\n",
      "C:\\ProgramData\\Anaconda3\\lib\\site-packages\\sklearn\\linear_model\\_logistic.py:1505: UserWarning: Setting penalty='none' will ignore the C and l1_ratio parameters\n",
      "  \"Setting penalty='none' will ignore the C and l1_ratio \"\n",
      "C:\\ProgramData\\Anaconda3\\lib\\site-packages\\sklearn\\linear_model\\_logistic.py:1505: UserWarning: Setting penalty='none' will ignore the C and l1_ratio parameters\n",
      "  \"Setting penalty='none' will ignore the C and l1_ratio \"\n",
      "C:\\ProgramData\\Anaconda3\\lib\\site-packages\\sklearn\\linear_model\\_logistic.py:1505: UserWarning: Setting penalty='none' will ignore the C and l1_ratio parameters\n",
      "  \"Setting penalty='none' will ignore the C and l1_ratio \"\n",
      "C:\\ProgramData\\Anaconda3\\lib\\site-packages\\sklearn\\linear_model\\_logistic.py:1505: UserWarning: Setting penalty='none' will ignore the C and l1_ratio parameters\n",
      "  \"Setting penalty='none' will ignore the C and l1_ratio \"\n"
     ]
    },
    {
     "data": {
      "text/plain": [
       "array([[ 46982,  92209],\n",
       "       [ 35432, 159112]], dtype=int64)"
      ]
     },
     "execution_count": 47,
     "metadata": {},
     "output_type": "execute_result"
    }
   ],
   "source": [
    "from sklearn.model_selection import cross_val_predict\n",
    "from sklearn.metrics import confusion_matrix\n",
    "y_train_pred_LR_ = cross_val_predict(LR_reg_finetune,dfscale_train_x_imp,y_train, cv=5)\n",
    "confusion_matrix(y_train, y_train_pred_LR_)"
   ]
  },
  {
   "cell_type": "markdown",
   "metadata": {},
   "source": [
    "### Modeling with test data"
   ]
  },
  {
   "cell_type": "code",
   "execution_count": 48,
   "metadata": {},
   "outputs": [
    {
     "name": "stdout",
     "output_type": "stream",
     "text": [
      "X_test_scale :  (83434, 21)\n"
     ]
    }
   ],
   "source": [
    "# Apply same selected features on to the Xtest\n",
    "\n",
    "df_imp_features_X_test=X_test[['SK_ID_CURR','DAYS_CREDIT','REGION_RATING_CLIENT_W_CITY','NUM_INSTALMENT_NUMBER','DAYS_CREDIT_UPDATE',\n",
    " 'DEF_60_CNT_SOCIAL_CIRCLE','AMT_CREDIT_SUM_DEBT','DAYS_CREDIT_ENDDATE','CNT_CHILDREN','AMT_CREDIT_LIMIT_ACTUAL',\n",
    " 'CNT_CREDIT_PROLONG','AMT_INCOME_TOTAL','REG_CITY_NOT_WORK_CITY','DAYS_LAST_PHONE_CHANGE','AMT_PAYMENT_TOTAL_CURRENT',\n",
    " 'DAYS_EMPLOYED','AMT_APPLICATION','AMT_REQ_CREDIT_BUREAU_MON','AMT_TOTAL_RECEIVABLE','DAYS_BIRTH','FLAG_DOCUMENT_3']]\n",
    "\n",
    "from sklearn.preprocessing import StandardScaler\n",
    "scaler = StandardScaler()\n",
    "dfscale_test_x_imp = scaler.fit_transform(df_imp_features_X_test)\n",
    "\n",
    "print(\"X_test_scale : \",dfscale_test_x_imp.shape)"
   ]
  },
  {
   "cell_type": "code",
   "execution_count": 49,
   "metadata": {},
   "outputs": [
    {
     "name": "stdout",
     "output_type": "stream",
     "text": [
      "[0.61994367 0.62144184 0.62072272 0.61269252 0.62087978]\n",
      "LR Classifier Accuracy(mean of 5 accuracy) After Fine : 0.619\n"
     ]
    }
   ],
   "source": [
    "from sklearn.linear_model import LogisticRegression\n",
    "# Call LR classifier\n",
    "LR_reg_test = LogisticRegression(random_state=42)\n",
    "# Train LR classifier\n",
    "LR_reg_test.fit(dfscale_test_x_imp, y_test)\n",
    "from sklearn.model_selection import cross_val_score\n",
    "LR_testAccuracy=cross_val_score(LR_reg_test,dfscale_test_x_imp, y_test, cv=5, scoring=\"accuracy\")\n",
    "print(LR_testAccuracy)\n",
    "print(\"LR Classifier Accuracy(mean of 5 accuracy) After Fine :\",round(np.mean(LR_testAccuracy),3))\n"
   ]
  },
  {
   "cell_type": "code",
   "execution_count": 50,
   "metadata": {},
   "outputs": [
    {
     "data": {
      "text/plain": [
       "array([[12294, 22561],\n",
       "       [ 9216, 39363]], dtype=int64)"
      ]
     },
     "execution_count": 50,
     "metadata": {},
     "output_type": "execute_result"
    }
   ],
   "source": [
    "from sklearn.model_selection import cross_val_predict\n",
    "from sklearn.metrics import confusion_matrix\n",
    "y_train_pred_LR_ = cross_val_predict(LR_reg_test,dfscale_test_x_imp,y_test, cv=5)\n",
    "confusion_matrix(y_test, y_train_pred_LR_)"
   ]
  },
  {
   "cell_type": "code",
   "execution_count": null,
   "metadata": {},
   "outputs": [],
   "source": []
  }
 ],
 "metadata": {
  "kernelspec": {
   "display_name": "Python 3",
   "language": "python",
   "name": "python3"
  },
  "language_info": {
   "codemirror_mode": {
    "name": "ipython",
    "version": 3
   },
   "file_extension": ".py",
   "mimetype": "text/x-python",
   "name": "python",
   "nbconvert_exporter": "python",
   "pygments_lexer": "ipython3",
   "version": "3.7.6"
  }
 },
 "nbformat": 4,
 "nbformat_minor": 4
}
